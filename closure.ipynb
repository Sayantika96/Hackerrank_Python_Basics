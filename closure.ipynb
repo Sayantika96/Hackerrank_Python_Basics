{
 "cells": [
  {
   "cell_type": "code",
   "execution_count": 1,
   "metadata": {},
   "outputs": [
    {
     "name": "stdout",
     "output_type": "stream",
     "text": [
      "Execution time of new_list_calc: 0.0 seconds\n"
     ]
    }
   ],
   "source": [
    "import time\n",
    "\n",
    "def execution_time():\n",
    "    def decorator(func):\n",
    "        def wrapper(*args,**kwargs):\n",
    "            start_time = time.time()\n",
    "            result = func(*args,**kwargs)\n",
    "            end_time = time.time()\n",
    "            \n",
    "            print(f\"Exponent of {list_1} & {list_2} is: {new_list}\")\n",
    "            print(f\"Execution time of {func.__name__}: {end_time - start_time} seconds\")\n",
    "            return result\n",
    "        return wrapper\n",
    "    return decorator\n",
    "\n",
    "@execution_time()\n",
    "\n",
    "def new_list_calc(list_1,list_2):\n",
    "    new_list = list(map(lambda x : x[0]**x[1], zip(list_1,list_2)))\n",
    "    return new_list\n",
    "\n",
    "if __name__ == '__main__':\n",
    "    \n",
    "    list_1_input = input(\"Enter comma-separated value for list: \")\n",
    "    list_1 = [int(x) for x in list_1_input.split(',')]\n",
    "    \n",
    "    list_2_input = input(\"Enter comma-separated value for list: \")\n",
    "    list_2 = [int(x) for x in list_2_input.split(',')]\n",
    "    \n",
    "    new_list_calc(list_1,list_2)"
   ]
  },
  {
   "cell_type": "code",
   "execution_count": null,
   "metadata": {},
   "outputs": [],
   "source": []
  }
 ],
 "metadata": {
  "kernelspec": {
   "display_name": "Python 3",
   "language": "python",
   "name": "python3"
  },
  "language_info": {
   "codemirror_mode": {
    "name": "ipython",
    "version": 3
   },
   "file_extension": ".py",
   "mimetype": "text/x-python",
   "name": "python",
   "nbconvert_exporter": "python",
   "pygments_lexer": "ipython3",
   "version": "3.11.0"
  }
 },
 "nbformat": 4,
 "nbformat_minor": 2
}
