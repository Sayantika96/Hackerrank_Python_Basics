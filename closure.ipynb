{
 "cells": [
  {
   "cell_type": "code",
   "execution_count": null,
   "metadata": {},
   "outputs": [],
   "source": [
    "import time\n",
    "\n",
    "def execution_time():\n",
    "    def decorator(func):\n",
    "        def wrapper(*args,**kwargs):\n",
    "            start_time = time.time()\n",
    "            result = func(*args,**kwargs)\n",
    "            end_time = time.time()\n",
    "            \n",
    "            print(f\"Execution time of {func.__name__}: {end_time - start_time} seconds\")\n",
    "            return result\n",
    "        return wrapper\n",
    "    return decorator\n",
    "\n",
    "@execution_time()\n",
    "\n",
    "def calculate_something(num):\n",
    "    total = sum((x for x in range(0, num**2)))\n",
    "    return total\n",
    "\n",
    "if __name__ == '__main__':\n",
    "    calculate_something(10)\n",
    "    calculate_something(100)\n",
    "    calculate_something(1000)"
   ]
  }
 ],
 "metadata": {
  "language_info": {
   "name": "python"
  }
 },
 "nbformat": 4,
 "nbformat_minor": 2
}
