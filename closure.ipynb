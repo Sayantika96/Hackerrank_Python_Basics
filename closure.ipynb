{
 "cells": [
  {
   "cell_type": "code",
   "execution_count": 1,
   "metadata": {},
   "outputs": [
    {
     "name": "stdout",
     "output_type": "stream",
     "text": [
      "Execution time of calculate_something: 0.0 seconds\n",
      "Execution time of calculate_something: 0.0008611679077148438 seconds\n",
      "Execution time of calculate_something: 0.1274571418762207 seconds\n"
     ]
    }
   ],
   "source": [
    "import time\n",
    "\n",
    "def execution_time():\n",
    "    def decorator(func):\n",
    "        def wrapper(*args,**kwargs):\n",
    "            start_time = time.time()\n",
    "            result = func(*args,**kwargs)\n",
    "            end_time = time.time()\n",
    "            \n",
    "            print(f\"Execution time of {func.__name__}: {end_time - start_time} seconds\")\n",
    "            return result\n",
    "        return wrapper\n",
    "    return decorator\n",
    "\n",
    "@execution_time()\n",
    "\n",
    "def calculate_something(num):\n",
    "    total = sum((x for x in range(0, num**2)))\n",
    "    return total\n",
    "\n",
    "if __name__ == '__main__':\n",
    "    calculate_something(10)\n",
    "    calculate_something(100)\n",
    "    calculate_something(1000)"
   ]
  }
 ],
 "metadata": {
  "kernelspec": {
   "display_name": "Python 3",
   "language": "python",
   "name": "python3"
  },
  "language_info": {
   "codemirror_mode": {
    "name": "ipython",
    "version": 3
   },
   "file_extension": ".py",
   "mimetype": "text/x-python",
   "name": "python",
   "nbconvert_exporter": "python",
   "pygments_lexer": "ipython3",
   "version": "3.11.0"
  }
 },
 "nbformat": 4,
 "nbformat_minor": 2
}
