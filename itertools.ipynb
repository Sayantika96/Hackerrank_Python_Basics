{
 "cells": [
  {
   "cell_type": "code",
   "execution_count": 1,
   "metadata": {},
   "outputs": [],
   "source": [
    "from itertools import combinations"
   ]
  },
  {
   "cell_type": "code",
   "execution_count": 2,
   "metadata": {},
   "outputs": [
    {
     "name": "stdout",
     "output_type": "stream",
     "text": [
      "[('apples', 'bananas'), ('apples', 'cherries'), ('apples', 'dates'), ('bananas', 'cherries'), ('bananas', 'dates'), ('cherries', 'dates')]\n"
     ]
    }
   ],
   "source": [
    "def rSubset(arr,r):\n",
    "    return list(combinations(arr,r))\n",
    "\n",
    "if __name__ == \"__main__\":\n",
    "    arr = [\"apples\", \"bananas\", \"cherries\", \"dates\"]\n",
    "    r = 2\n",
    "    print(rSubset(arr,r))"
   ]
  },
  {
   "cell_type": "code",
   "execution_count": null,
   "metadata": {},
   "outputs": [],
   "source": []
  }
 ],
 "metadata": {
  "kernelspec": {
   "display_name": "Python 3",
   "language": "python",
   "name": "python3"
  },
  "language_info": {
   "codemirror_mode": {
    "name": "ipython",
    "version": 3
   },
   "file_extension": ".py",
   "mimetype": "text/x-python",
   "name": "python",
   "nbconvert_exporter": "python",
   "pygments_lexer": "ipython3",
   "version": "3.11.0"
  }
 },
 "nbformat": 4,
 "nbformat_minor": 2
}
