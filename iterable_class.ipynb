{
 "cells": [
  {
   "cell_type": "code",
   "execution_count": 2,
   "metadata": {},
   "outputs": [
    {
     "name": "stdout",
     "output_type": "stream",
     "text": [
      "70\n",
      "34\n",
      "44\n",
      "57\n",
      "7\n"
     ]
    }
   ],
   "source": [
    "import random\n",
    "\n",
    "class generate_random_number:\n",
    "    def __init__(self, length):\n",
    "        self.length = length\n",
    "        self.count = 0\n",
    "    \n",
    "    def __iter__(self):\n",
    "        return self\n",
    "    \n",
    "    def __next__(self):\n",
    "        if self.count < self.length:\n",
    "            self.count += 1\n",
    "            return random.randint(1,100)\n",
    "        else:\n",
    "            raise StopIteration\n",
    "            \n",
    "user_input = int(input(\"Enter a number: \"))\n",
    "\n",
    "random_number_generator = generate_random_number(user_input)\n",
    "\n",
    "for num in random_number_generator:\n",
    "    print(num)"
   ]
  }
 ],
 "metadata": {
  "kernelspec": {
   "display_name": "Python 3",
   "language": "python",
   "name": "python3"
  },
  "language_info": {
   "codemirror_mode": {
    "name": "ipython",
    "version": 3
   },
   "file_extension": ".py",
   "mimetype": "text/x-python",
   "name": "python",
   "nbconvert_exporter": "python",
   "pygments_lexer": "ipython3",
   "version": "3.11.0"
  }
 },
 "nbformat": 4,
 "nbformat_minor": 2
}
