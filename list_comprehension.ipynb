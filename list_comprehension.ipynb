{
 "cells": [
  {
   "cell_type": "code",
   "execution_count": null,
   "metadata": {},
   "outputs": [],
   "source": [
    "def flatten_comprehension(matrix):\n",
    "    return [item for row in matrix for item in row]\n",
    "\n",
    "matrix = [\n",
    "    [9,3,8,3],\n",
    "    [3,6,8,2],\n",
    "    [1,3,5,7],\n",
    "    [2,4,6,8],\n",
    "]\n",
    "\n",
    "flatten_comprehension(matrix)"
   ]
  }
 ],
 "metadata": {
  "language_info": {
   "name": "python"
  }
 },
 "nbformat": 4,
 "nbformat_minor": 2
}
