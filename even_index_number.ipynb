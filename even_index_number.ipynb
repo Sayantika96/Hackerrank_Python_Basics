{
 "cells": [
  {
   "cell_type": "code",
   "execution_count": 10,
   "id": "8e0806c7",
   "metadata": {},
   "outputs": [
    {
     "name": "stdout",
     "output_type": "stream",
     "text": [
      "Enter a string: programming\n",
      "p\n",
      "o\n",
      "r\n",
      "m\n",
      "i\n",
      "g\n"
     ]
    }
   ],
   "source": [
    "string = input(\"Enter a string: \")\n",
    "\n",
    "listed_string = list(string)\n",
    "\n",
    "for index, character in enumerate(listed_string): # enumerate() get both the index and character of a string\n",
    "    if index % 2 == 0:\n",
    "        print(character)\n",
    "    else:\n",
    "        pass"
   ]
  },
  {
   "cell_type": "code",
   "execution_count": null,
   "id": "56140fbc",
   "metadata": {},
   "outputs": [],
   "source": []
  }
 ],
 "metadata": {
  "kernelspec": {
   "display_name": "Python 3 (ipykernel)",
   "language": "python",
   "name": "python3"
  },
  "language_info": {
   "codemirror_mode": {
    "name": "ipython",
    "version": 3
   },
   "file_extension": ".py",
   "mimetype": "text/x-python",
   "name": "python",
   "nbconvert_exporter": "python",
   "pygments_lexer": "ipython3",
   "version": "3.9.13"
  }
 },
 "nbformat": 4,
 "nbformat_minor": 5
}
