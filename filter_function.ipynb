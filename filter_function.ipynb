{
 "cells": [
  {
   "cell_type": "code",
   "execution_count": null,
   "metadata": {},
   "outputs": [],
   "source": [
    "def div_by_3(num):\n",
    "    filtered_num = list(filter(lambda x : x % 3 == 0, num))\n",
    "    return filtered_num\n",
    "\n",
    "user_input = input(\"Enter comma separated values: \")\n",
    "listed_user_input = [int(x) for x in user_input.split(',')]\n",
    "\n",
    "result = div_by_3(listed_user_input)\n",
    "print(f\"Numbers divisible by 3: \",result)"
   ]
  },
  {
   "cell_type": "code",
   "execution_count": null,
   "metadata": {},
   "outputs": [],
   "source": []
  }
 ],
 "metadata": {
  "language_info": {
   "name": "python"
  }
 },
 "nbformat": 4,
 "nbformat_minor": 2
}
