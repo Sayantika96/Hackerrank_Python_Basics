{
 "cells": [
  {
   "cell_type": "markdown",
   "id": "b2b6c7bd",
   "metadata": {},
   "source": [
    "#### Print the sum of the current number and the previous number"
   ]
  },
  {
   "cell_type": "code",
   "execution_count": 10,
   "id": "17489c79",
   "metadata": {},
   "outputs": [
    {
     "name": "stdout",
     "output_type": "stream",
     "text": [
      "Enter your number: 10\n",
      "Sum of current number 0, previous number 0 is : 0\n",
      "Sum of current number 1, previous number 0 is : 1\n",
      "Sum of current number 2, previous number 1 is : 3\n",
      "Sum of current number 3, previous number 2 is : 5\n",
      "Sum of current number 4, previous number 3 is : 7\n",
      "Sum of current number 5, previous number 4 is : 9\n",
      "Sum of current number 6, previous number 5 is : 11\n",
      "Sum of current number 7, previous number 6 is : 13\n",
      "Sum of current number 8, previous number 7 is : 15\n",
      "Sum of current number 9, previous number 8 is : 17\n"
     ]
    }
   ],
   "source": [
    "user_input = int(input(\"Enter your number: \"))\n",
    "prev_number = 0 \n",
    "\n",
    "for i in range(user_input):\n",
    "    sum_num = prev_number + i\n",
    "    print(f\"Sum of current number {i}, previous number {prev_number} is : {sum_num}\")\n",
    "    prev_number = i"
   ]
  },
  {
   "cell_type": "code",
   "execution_count": null,
   "id": "61f0615f",
   "metadata": {},
   "outputs": [],
   "source": []
  },
  {
   "cell_type": "code",
   "execution_count": null,
   "id": "9bea872b",
   "metadata": {},
   "outputs": [],
   "source": []
  }
 ],
 "metadata": {
  "kernelspec": {
   "display_name": "Python 3 (ipykernel)",
   "language": "python",
   "name": "python3"
  },
  "language_info": {
   "codemirror_mode": {
    "name": "ipython",
    "version": 3
   },
   "file_extension": ".py",
   "mimetype": "text/x-python",
   "name": "python",
   "nbconvert_exporter": "python",
   "pygments_lexer": "ipython3",
   "version": "3.9.13"
  }
 },
 "nbformat": 4,
 "nbformat_minor": 5
}
