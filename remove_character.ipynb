{
 "cells": [
  {
   "cell_type": "code",
   "execution_count": 13,
   "id": "ca91cb51",
   "metadata": {},
   "outputs": [
    {
     "name": "stdout",
     "output_type": "stream",
     "text": [
      "Removing characters from a string\n",
      "Original string: Pacific\n",
      "Modified string:  fic\n"
     ]
    }
   ],
   "source": [
    "def remove_char(user_input, n):\n",
    "    x = user_input[n:]\n",
    "    return x\n",
    "\n",
    "print(\"Removing characters from a string\")\n",
    "\n",
    "input_string = input(\"Original string: \")\n",
    "result1 = remove_char(input_string, 4)\n",
    "print(\"Modified string: \",result1)"
   ]
  },
  {
   "cell_type": "code",
   "execution_count": null,
   "id": "f41b76bc",
   "metadata": {},
   "outputs": [],
   "source": []
  }
 ],
 "metadata": {
  "kernelspec": {
   "display_name": "Python 3 (ipykernel)",
   "language": "python",
   "name": "python3"
  },
  "language_info": {
   "codemirror_mode": {
    "name": "ipython",
    "version": 3
   },
   "file_extension": ".py",
   "mimetype": "text/x-python",
   "name": "python",
   "nbconvert_exporter": "python",
   "pygments_lexer": "ipython3",
   "version": "3.9.13"
  }
 },
 "nbformat": 4,
 "nbformat_minor": 5
}
