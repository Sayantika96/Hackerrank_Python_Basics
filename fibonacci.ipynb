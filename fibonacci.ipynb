{
 "cells": [
  {
   "cell_type": "code",
   "execution_count": 1,
   "metadata": {},
   "outputs": [
    {
     "name": "stdout",
     "output_type": "stream",
     "text": [
      "Fibonacci sequence of first 5 numbers: \n",
      "0 1 1 2 3 "
     ]
    }
   ],
   "source": [
    "def fibonacci():\n",
    "    x,y = 0,1\n",
    "    while True:\n",
    "        yield x\n",
    "        x,y = y, x+y\n",
    "        \n",
    "n = int(input(\"Enter a specified number of terms: \"))\n",
    "print(f\"Fibonacci sequence of first {n} numbers: \")\n",
    "\n",
    "fib = fibonacci()\n",
    "for _ in range(n):\n",
    "    print(next(fib),end=\" \")"
   ]
  },
  {
   "cell_type": "code",
   "execution_count": null,
   "metadata": {},
   "outputs": [],
   "source": []
  }
 ],
 "metadata": {
  "kernelspec": {
   "display_name": "Python 3",
   "language": "python",
   "name": "python3"
  },
  "language_info": {
   "codemirror_mode": {
    "name": "ipython",
    "version": 3
   },
   "file_extension": ".py",
   "mimetype": "text/x-python",
   "name": "python",
   "nbconvert_exporter": "python",
   "pygments_lexer": "ipython3",
   "version": "3.11.0"
  }
 },
 "nbformat": 4,
 "nbformat_minor": 2
}
