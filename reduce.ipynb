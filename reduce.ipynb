{
 "cells": [
  {
   "cell_type": "code",
   "execution_count": 1,
   "metadata": {},
   "outputs": [],
   "source": [
    "from functools import reduce"
   ]
  },
  {
   "cell_type": "code",
   "execution_count": 3,
   "metadata": {},
   "outputs": [
    {
     "name": "stdout",
     "output_type": "stream",
     "text": [
      "The even numbers from the list : [2, 4, 6, 8, 10]\n"
     ]
    }
   ],
   "source": [
    "def reduce_func(num):\n",
    "    even_number = list(filter(lambda x : x % 2 == 0, num))\n",
    "    return even_number\n",
    "\n",
    "user_input = input(\"Enter comma separated values: \")\n",
    "list_user_input = [int(x) for x in user_input.split(',')]\n",
    "\n",
    "result = reduce_func(list_user_input)\n",
    "print(f\"The even numbers from the list :\", result)"
   ]
  },
  {
   "cell_type": "code",
   "execution_count": 4,
   "metadata": {},
   "outputs": [
    {
     "name": "stdout",
     "output_type": "stream",
     "text": [
      "Sum of all even number in a list:  3840\n"
     ]
    }
   ],
   "source": [
    "product_of_num = reduce(lambda x,y : x*y, result)\n",
    "print(f\"Sum of all even number in a list: \",product_of_num)"
   ]
  },
  {
   "cell_type": "code",
   "execution_count": null,
   "metadata": {},
   "outputs": [],
   "source": []
  }
 ],
 "metadata": {
  "kernelspec": {
   "display_name": "Python 3",
   "language": "python",
   "name": "python3"
  },
  "language_info": {
   "codemirror_mode": {
    "name": "ipython",
    "version": 3
   },
   "file_extension": ".py",
   "mimetype": "text/x-python",
   "name": "python",
   "nbconvert_exporter": "python",
   "pygments_lexer": "ipython3",
   "version": "3.11.0"
  }
 },
 "nbformat": 4,
 "nbformat_minor": 2
}
